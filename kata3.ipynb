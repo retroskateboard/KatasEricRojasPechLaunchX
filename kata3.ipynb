{
 "cells": [
  {
   "cell_type": "markdown",
   "metadata": {},
   "source": [
    "## 1.- Problema de asteroide mensaje de emergencia (if)"
   ]
  },
  {
   "cell_type": "code",
   "execution_count": 9,
   "metadata": {},
   "outputs": [
    {
     "name": "stdout",
     "output_type": "stream",
     "text": [
      "Asteroide se acerca a una velocidad sin peligro\n"
     ]
    }
   ],
   "source": [
    "velocidad = 24\n",
    "\n",
    "if velocidad > 25:\n",
    "    print(\"Asteroide acercandose peligrosamente\")\n",
    "else:\n",
    "    print(\"Asteroide se acerca a una velocidad sin peligro\")"
   ]
  },
  {
   "cell_type": "markdown",
   "metadata": {},
   "source": [
    "## 2.- Problema asteroide velocidad mayor o igual a 20 (if, elif, else)"
   ]
  },
  {
   "cell_type": "code",
   "execution_count": 13,
   "metadata": {},
   "outputs": [
    {
     "name": "stdout",
     "output_type": "stream",
     "text": [
      "No podras ver el rayo de luz :( \n"
     ]
    }
   ],
   "source": [
    "velocidad = 19\n",
    "\n",
    "if velocidad > 20:\n",
    "    print(\"Mira el cielo! Podrás ver un rayo de luz\")\n",
    "elif velocidad == 20:\n",
    "    print(\"Mira el cielo! Podrás ver un rayo de luz\")\n",
    "else:\n",
    "    print(\"No podras ver el rayo de luz :( \")"
   ]
  },
  {
   "cell_type": "markdown",
   "metadata": {},
   "source": [
    "## 3.- Problema asteoride and y or"
   ]
  },
  {
   "cell_type": "code",
   "execution_count": 17,
   "metadata": {},
   "outputs": [
    {
     "name": "stdout",
     "output_type": "stream",
     "text": [
      "Mira el cielo y podras ver un rayo de luz!\n"
     ]
    }
   ],
   "source": [
    "dimension = 24\n",
    "velocidad = 26\n",
    "\n",
    "if dimension > 25 and velocidad > 25:\n",
    "    print(\"¡Advertencia! Asteroide de gran magnitud se acerca a gran velocidad \")\n",
    "elif velocidad >= 20:\n",
    "    print(\"Mira el cielo y podras ver un rayo de luz!\")\n",
    "else:\n",
    "    print(\"No hay ninguna alerta!\")"
   ]
  }
 ],
 "metadata": {
  "kernelspec": {
   "display_name": "Python 3 (ipykernel)",
   "language": "python",
   "name": "python3"
  },
  "language_info": {
   "codemirror_mode": {
    "name": "ipython",
    "version": 3
   },
   "file_extension": ".py",
   "mimetype": "text/x-python",
   "name": "python",
   "nbconvert_exporter": "python",
   "pygments_lexer": "ipython3",
   "version": "3.10.2"
  },
  "orig_nbformat": 4
 },
 "nbformat": 4,
 "nbformat_minor": 2
}
